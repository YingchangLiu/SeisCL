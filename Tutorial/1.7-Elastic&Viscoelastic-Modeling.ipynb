{
 "cells": [
  {
   "cell_type": "markdown",
   "metadata": {},
   "source": [
    "# Elastic and viscoelastic modeling\n",
    "\n",
    "In this notebook, we will explore the theorical background of the two main way of modelling in SeisCL as well as their implications in the performance of the program."
   ]
  },
  {
   "cell_type": "markdown",
   "metadata": {},
   "source": [
    "## Theory\n",
    "\n",
    "Full waveform inversion requires the solution of the heregenous wave equation. We adopt the velocity-stress formulation in which the viscoelastic effects are modeled by L generalized standard linear solid (GSLS) [Liu, et al., 1976](https://doi.org/10.1111/j.1365-246X.1976.tb01261.x). The wave equation is then given by :\n",
    "\n",
    "<br>\n",
    "\n",
    "$$ \\partial_t v_i - \\frac{1}{\\rho} \\partial_j \\sigma_{ij} = f_{vi} $$\n",
    "\n",
    "where\n",
    "\n",
    "$$ v(\\mathbf{x}, t) : \\textrm{Particle velocity} \\hspace{3cm}  \\sigma(\\mathbf{x},t) : \\textrm{Stress} \\hspace{3cm} f(\\mathbf{x},t) : \\textrm{Source term}  \\hspace{3cm} \\rho(\\mathbf{x}) : \\textrm{Density} $$\n",
    "\n",
    "\n",
    "<br>\n",
    "\n",
    "This equation is satisfied for any volume, independently if it is filled with a liquid, a gas or rock but it does not describe how the medium deforms under external stress. For an elastic medium generalized Hooke's law give us a linear relationship between stress and strain :\n",
    "\n",
    "<br>\n",
    "\n",
    "\n",
    "$$ \\sigma_{ij} = \\lambda \\theta \\delta_{ij} + 2 \\mu \\epsilon_{ij} $$\n",
    "\n",
    "where\n",
    "\n",
    "$$ \\lambda \\textrm{ and } \\mu \\textrm{ : Lamé parameter}   \\hspace{3cm} \\epsilon_{ij} = \\left( \\partial_j u_i + \\partial_i u_j \\right)    \\textrm{ : deformation tensor}     \\hspace{3cm}    \\theta = \\epsilon_{11} + \\epsilon_{22} + \\epsilon_{33} \\textrm{ : cubic dilatation}  $$\n",
    "\n",
    "<br>\n",
    "\n",
    "For a viscoelastic medium, the stress-strain relationship is more complicated :\n",
    "\n",
    "<br>\n",
    "\n",
    "\n",
    "$$  \\partial_t \\sigma_{ij} - \\left[ M \\frac{1 + \\tau_p}{1 + \\alpha \\tau_p} - 2\\mu \\frac{1 + \\tau_s}{1 + \\alpha \\tau_s} \\right] \\partial_k v_k \\delta_{ij} - \\mu \\frac{1 + \\tau_s}{1 + \\alpha \\tau_s} \\left( \\partial_j v_i + \\partial_i v_j \\right) - r_{ijl} \\delta_l = f_{\\sigma i j} $$\n",
    "\n",
    "\n",
    "where $ r_{ijl} $ is the memory variable and given by : \n",
    "\n",
    "<br>\n",
    "\n",
    "$$  \\partial_t r_{ijl} - \\frac{1}{\\tau_{\\sigma l}} \\left[ \\left( M \\frac{\\tau_p}{1 + \\alpha \\tau_p} - 2\\mu \\frac{\\tau_s}{1 + \\alpha \\tau_s} \\right) \\partial_k v_k \\delta_{ij}   + \\mu \\frac{\\tau_s}{1 + \\alpha \\tau_s} \\left( \\partial_j v_i + \\partial_i v_j \\right) + r_{ijl} \\right] = 0$$\n",
    "\n",
    "\n",
    "with :\n",
    "\n",
    "$$ M(\\mathbf{x}) \\textrm{ : P-wave modulus} \\hspace{3cm} \\mu(\\mathbf{x}) : \\textrm{Shear modulus}   \\hspace{3cm} \\tau_p(\\mathbf{x}) : \\textrm{ P-wave attenuation} \\hspace{3cm} \\tau_s(\\mathbf{x}) : \\textrm{S-wave attenuation} \\hspace{3cm} \\tau_{\\sigma l} : \\textrm{Stress relaxation time of the } l^{th} \\textrm{ Maxwell body}$$\n",
    "\n",
    "\n"
   ]
  },
  {
   "cell_type": "markdown",
   "metadata": {},
   "source": [
    "## Finite difference modeling\n",
    "\n",
    "As we can see in the equation above, viscoelastic modeling requieres a bit more calculation and damp the general result. Viscoelastic modeling is obviously more realistic, but elastic testing can still be helpful to have quick and clear results. Let's see the difference between the two in SeisCL. \n"
   ]
  },
  {
   "cell_type": "markdown",
   "metadata": {},
   "source": [
    "First we initialize the elastic modelisation: "
   ]
  },
  {
   "cell_type": "code",
   "execution_count": 30,
   "metadata": {},
   "outputs": [],
   "source": [
    "import matplotlib.pyplot as plt\n",
    "import numpy as np\n",
    "from SeisCL import SeisCL\n",
    "from copy import deepcopy"
   ]
  },
  {
   "cell_type": "code",
   "execution_count": 31,
   "metadata": {},
   "outputs": [],
   "source": [
    "seisElas = SeisCL()\n",
    "\n",
    "seisElas.csts['nmax_dev'] = 4\n",
    "seisElas.csts['no_use_GPUs'] = np.array([0])\n",
    "\n",
    "seisElas.csts['ND'] = 3\n",
    "seisElas.csts['N'] = np.array([300, 300, 300])\n",
    "seisElas.csts['dt'] = dt = 0.2e-03\n",
    "seisElas.csts['dh'] = dh = 2\n",
    "seisElas.csts['NT'] = NT = 2000\n",
    "\n",
    "seisElas.csts['seisout'] = 1"
   ]
  },
  {
   "cell_type": "code",
   "execution_count": 32,
   "metadata": {},
   "outputs": [],
   "source": [
    "N = seisElas.csts['N'][0]\n",
    "\n",
    "sx = N // 2 * dh\n",
    "sy = N // 2 * dh\n",
    "sz = N // 2 * dh\n",
    "\n",
    "seisElas.src_pos_all = np.stack([[sx], [sy], [sz], [0], [100]], axis=0)\n",
    "\n",
    "gx = np.arange(50*dh, 250*dh, dh)\n",
    "gy = gx * 0 + 20 * dh # + N // 2 * dh\n",
    "gz = gy         #+ N // 2 * dh\n",
    "srcid = gx*0\n",
    "recid = np.arange(0, len(gx))\n",
    "\n",
    "seisElas.rec_pos_all = np.stack([gx, gy, gz, srcid, recid, gx*0, gx*0, gx*0], axis=0)"
   ]
  },
  {
   "cell_type": "markdown",
   "metadata": {},
   "source": [
    "To save some lines of codes, we copy the object and change the two relevant parameters.\n",
    "\n",
    "The first parameter, <code>L</code> correspond to the number of attenuation mechanism, that we must change from 0 to 1 since the model is no longer elastic.\n",
    "\n",
    "The seconde one, <code>FL</code> is the frequency of the viscoelastic attenuation, which will be the same as the central fraquency."
   ]
  },
  {
   "cell_type": "code",
   "execution_count": 33,
   "metadata": {},
   "outputs": [],
   "source": [
    "seisVisco = deepcopy(seisElas)\n",
    "\n",
    "seisVisco.csts['L'] = 1\n",
    "seisVisco.csts['FL'] = np.array([seisVisco.csts['f0']])"
   ]
  },
  {
   "cell_type": "markdown",
   "metadata": {},
   "source": [
    "We can them define the model, launch the modelization and show the results."
   ]
  },
  {
   "cell_type": "code",
   "execution_count": 34,
   "metadata": {},
   "outputs": [],
   "source": [
    "vp = 3500\n",
    "vs = 2000\n",
    "rho = 2000\n",
    "taup = 0\n",
    "taus = 0\n",
    "\n",
    "vp_a = np.zeros(seisElas.csts['N']) + vp\n",
    "vs_a = np.zeros(seisElas.csts['N']) + vs\n",
    "rho_a = np.zeros(seisElas.csts['N']) + rho\n",
    "taup_a = np.zeros(seisElas.csts['N']) + taup\n",
    "taus_a = np.zeros(saeisElas.csts['N']) + taus\n",
    "\n",
    "model_Elas = {\"vp\": vp_a, \"rho\": rho_a, \"vs\": vs_a, \"taup\": taup_a, \"taus\": taus_a}\n",
    "\n",
    "model_Visco = {\"vp\": vp_a, \"rho\": rho_a, \"vs\": vs_a, \"taup\": taup_a + 0.2, \"taus\": taus_a + 0.2}\n"
   ]
  },
  {
   "cell_type": "code",
   "execution_count": 35,
   "metadata": {
    "tags": []
   },
   "outputs": [],
   "source": [
    "gsid = seisElas.rec_pos_all[3,:]\n",
    "\n",
    "seisElas.set_forward(gsid, model_Elas, withgrad=False)\n",
    "InfoElas = seisElas.execute()\n",
    "data_Elas = seisElas.read_data()\n",
    "\n",
    "seisVisco.set_forward(gsid, model_Visco, withgrad=False)\n",
    "InfoVisco = seisVisco.execute()\n",
    "data_Visco = seisVisco.read_data()"
   ]
  },
  {
   "cell_type": "code",
   "execution_count": 36,
   "metadata": {},
   "outputs": [
    {
     "data": {
      "image/png": "[encoded data removed]",
      "text/plain": [
       "<Figure size 864x432 with 2 Axes>"
      ]
     },
     "metadata": {
      "needs_background": "light"
     },
     "output_type": "display_data"
    }
   ],
   "source": [
    "_, ax = plt.subplots(1, 2, figsize=[12, 6])\n",
    "extent = [25*dh, 275*dh, (data_Elas.shape[0]-1)*dt, 0]\n",
    "clip = 1\n",
    "vmax = np.max(data_Elas) * clip\n",
    "vmin = -vmax\n",
    "ax[0].imshow(data_Elas, aspect='auto', vmax=vmax, vmin=vmin,\n",
    "             extent=extent, interpolation='bilinear',\n",
    "             cmap=plt.get_cmap('Greys'))\n",
    "ax[0].set_title(\"Elastic modeling\", fontsize=16, fontweight='bold')\n",
    "ax[0].set_xlabel(\"Position (m)\")\n",
    "ax[0].set_ylabel(\"Time (ms)\")\n",
    "\n",
    "ax[1].imshow(data_Visco, aspect='auto', vmax=vmax, vmin=vmin,\n",
    "             extent=extent, interpolation='bilinear',\n",
    "             cmap=plt.get_cmap('Greys'))\n",
    "ax[1].set_title(\"Viscoelastic modeling\", fontsize=16, fontweight='bold')\n",
    "ax[1].set_xlabel(\"Position (m)\")\n",
    "ax[1].set_ylabel(\"Time (ms)\")\n",
    "\n",
    "\n",
    "plt.show()"
   ]
  }
 ],
 "metadata": {
  "kernelspec": {
   "display_name": "Python 3.6.3 64-bit ('gen': venv)",
   "language": "python",
   "name": "python36364bitgenvenva03a619bb7bd49b0b1e2bb7579639015"
  },
  "language_info": {
   "codemirror_mode": {
    "name": "ipython",
    "version": 3
   },
   "file_extension": ".py",
   "mimetype": "text/x-python",
   "name": "python",
   "nbconvert_exporter": "python",
   "pygments_lexer": "ipython3",
   "version": "3.6.3"
  }
 },
 "nbformat": 4,
 "nbformat_minor": 2
}
